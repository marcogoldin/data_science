{
 "cells": [
  {
   "cell_type": "markdown",
   "metadata": {},
   "source": [
    "## Email +TECA"
   ]
  },
  {
   "cell_type": "code",
   "execution_count": 1,
   "metadata": {
    "collapsed": false
   },
   "outputs": [
    {
     "name": "stdout",
     "output_type": "stream",
     "text": [
      "Current size: [6.0, 4.0]\n"
     ]
    }
   ],
   "source": [
    "import pandas as pd\n",
    "import numpy as np\n",
    "from pandas import Series, DataFrame\n",
    "import matplotlib\n",
    "import matplotlib.pyplot as plt\n",
    "\n",
    "\n",
    "import scipy.stats as stats\n",
    "import matplotlib.mlab as mlab\n",
    "import math\n",
    "\n",
    "%matplotlib inline\n",
    "plt.style.use('ggplot')\n",
    "\n",
    "# Get current size\n",
    "fig_size = plt.rcParams[\"figure.figsize\"]\n",
    " \n",
    "# Prints size\n",
    "print(\"Current size:\", fig_size)\n",
    "\n",
    "# Set figure width\n",
    "fig_size[0] = 12\n",
    "fig_size[1] = 8\n",
    "plt.rcParams[\"figure.figsize\"] = fig_size\n"
   ]
  },
  {
   "cell_type": "code",
   "execution_count": 2,
   "metadata": {
    "collapsed": false
   },
   "outputs": [],
   "source": [
    "df = pd.read_csv(\"ReportDettagliato_notebook.csv\",\n",
    "                 sep=\",\")"
   ]
  },
  {
   "cell_type": "markdown",
   "metadata": {},
   "source": [
    "# Panoramica del report per i valori di ogni colonna\n",
    "\n",
    "**I valori delle colonne che riportano le percentuali sono trasformati in decimali**\n",
    "\n",
    "**0.401552 =  40,1552 %**\n",
    "\n",
    "**0.006100 = 0,6 %**\n",
    "\n",
    "- mean = media aritmetica\n",
    "- std = deciazione standard dalla media\n",
    "- min = valore minimo\n",
    "- 25%, 50%, 75% = quartili\n",
    "- max = valore massimo"
   ]
  },
  {
   "cell_type": "code",
   "execution_count": 3,
   "metadata": {
    "collapsed": false
   },
   "outputs": [
    {
     "data": {
      "text/html": [
       "<div>\n",
       "<table border=\"1\" class=\"dataframe\">\n",
       "  <thead>\n",
       "    <tr style=\"text-align: right;\">\n",
       "      <th></th>\n",
       "      <th>Totale aperture</th>\n",
       "      <th>% Lettori unici su lettori totali</th>\n",
       "      <th>% OR nel gruppo</th>\n",
       "      <th>Totale cliccatori</th>\n",
       "      <th>% Cliccatori gruppo su cliccatori totali</th>\n",
       "      <th>% Cliccatori su appartenenti al gruppo</th>\n",
       "    </tr>\n",
       "  </thead>\n",
       "  <tbody>\n",
       "    <tr>\n",
       "      <th>count</th>\n",
       "      <td>420.000000</td>\n",
       "      <td>420.000000</td>\n",
       "      <td>420.000000</td>\n",
       "      <td>420.000000</td>\n",
       "      <td>420.000000</td>\n",
       "      <td>420.000000</td>\n",
       "    </tr>\n",
       "    <tr>\n",
       "      <th>mean</th>\n",
       "      <td>3692.314286</td>\n",
       "      <td>0.089422</td>\n",
       "      <td>0.401552</td>\n",
       "      <td>79.045238</td>\n",
       "      <td>0.003670</td>\n",
       "      <td>0.012656</td>\n",
       "    </tr>\n",
       "    <tr>\n",
       "      <th>std</th>\n",
       "      <td>7112.093393</td>\n",
       "      <td>0.178895</td>\n",
       "      <td>0.319617</td>\n",
       "      <td>148.845935</td>\n",
       "      <td>0.006916</td>\n",
       "      <td>0.017323</td>\n",
       "    </tr>\n",
       "    <tr>\n",
       "      <th>min</th>\n",
       "      <td>1.000000</td>\n",
       "      <td>0.000000</td>\n",
       "      <td>0.007900</td>\n",
       "      <td>0.000000</td>\n",
       "      <td>0.000000</td>\n",
       "      <td>0.000000</td>\n",
       "    </tr>\n",
       "    <tr>\n",
       "      <th>25%</th>\n",
       "      <td>357.750000</td>\n",
       "      <td>0.010100</td>\n",
       "      <td>0.288075</td>\n",
       "      <td>11.000000</td>\n",
       "      <td>0.000500</td>\n",
       "      <td>0.006100</td>\n",
       "    </tr>\n",
       "    <tr>\n",
       "      <th>50%</th>\n",
       "      <td>1238.500000</td>\n",
       "      <td>0.033400</td>\n",
       "      <td>0.326100</td>\n",
       "      <td>32.000000</td>\n",
       "      <td>0.001500</td>\n",
       "      <td>0.007700</td>\n",
       "    </tr>\n",
       "    <tr>\n",
       "      <th>75%</th>\n",
       "      <td>3436.750000</td>\n",
       "      <td>0.091525</td>\n",
       "      <td>0.410650</td>\n",
       "      <td>75.250000</td>\n",
       "      <td>0.003500</td>\n",
       "      <td>0.012025</td>\n",
       "    </tr>\n",
       "    <tr>\n",
       "      <th>max</th>\n",
       "      <td>38650.000000</td>\n",
       "      <td>0.989600</td>\n",
       "      <td>3.764700</td>\n",
       "      <td>844.000000</td>\n",
       "      <td>0.039200</td>\n",
       "      <td>0.181800</td>\n",
       "    </tr>\n",
       "  </tbody>\n",
       "</table>\n",
       "</div>"
      ],
      "text/plain": [
       "       Totale aperture  % Lettori unici su lettori totali  % OR nel gruppo  \\\n",
       "count       420.000000                         420.000000       420.000000   \n",
       "mean       3692.314286                           0.089422         0.401552   \n",
       "std        7112.093393                           0.178895         0.319617   \n",
       "min           1.000000                           0.000000         0.007900   \n",
       "25%         357.750000                           0.010100         0.288075   \n",
       "50%        1238.500000                           0.033400         0.326100   \n",
       "75%        3436.750000                           0.091525         0.410650   \n",
       "max       38650.000000                           0.989600         3.764700   \n",
       "\n",
       "       Totale cliccatori  % Cliccatori gruppo su cliccatori totali  \\\n",
       "count         420.000000                                420.000000   \n",
       "mean           79.045238                                  0.003670   \n",
       "std           148.845935                                  0.006916   \n",
       "min             0.000000                                  0.000000   \n",
       "25%            11.000000                                  0.000500   \n",
       "50%            32.000000                                  0.001500   \n",
       "75%            75.250000                                  0.003500   \n",
       "max           844.000000                                  0.039200   \n",
       "\n",
       "       % Cliccatori su appartenenti al gruppo  \n",
       "count                              420.000000  \n",
       "mean                                 0.012656  \n",
       "std                                  0.017323  \n",
       "min                                  0.000000  \n",
       "25%                                  0.006100  \n",
       "50%                                  0.007700  \n",
       "75%                                  0.012025  \n",
       "max                                  0.181800  "
      ]
     },
     "execution_count": 3,
     "metadata": {},
     "output_type": "execute_result"
    }
   ],
   "source": [
    "df.describe()"
   ]
  },
  {
   "cell_type": "markdown",
   "metadata": {},
   "source": [
    "# Totale delle aperture dell'email = 1550772\n",
    "### il numero è una astrazione statistica, in quanto un destinatario può appartenere a più gruppi creati con MailUp. La somma totale di ciascun gruppo può essere superiore al numero totale di letture e clic."
   ]
  },
  {
   "cell_type": "code",
   "execution_count": 4,
   "metadata": {
    "collapsed": false
   },
   "outputs": [
    {
     "name": "stdout",
     "output_type": "stream",
     "text": [
      "Totale aperture =  1550772.0\n"
     ]
    }
   ],
   "source": [
    "print(\"Totale aperture = \", df['Totale aperture'].sum(axis=0))"
   ]
  },
  {
   "cell_type": "markdown",
   "metadata": {},
   "source": [
    "# Le 5 liste di destinatari che hanno i valori massimi di apertura dell'email"
   ]
  },
  {
   "cell_type": "code",
   "execution_count": 5,
   "metadata": {
    "collapsed": false,
    "scrolled": true
   },
   "outputs": [
    {
     "data": {
      "text/html": [
       "<div>\n",
       "<table border=\"1\" class=\"dataframe\">\n",
       "  <thead>\n",
       "    <tr style=\"text-align: right;\">\n",
       "      <th></th>\n",
       "      <th>Nome</th>\n",
       "      <th>Totale aperture</th>\n",
       "      <th>% Lettori unici su lettori totali</th>\n",
       "      <th>% OR nel gruppo</th>\n",
       "      <th>Totale cliccatori</th>\n",
       "      <th>% Cliccatori gruppo su cliccatori totali</th>\n",
       "      <th>% Cliccatori su appartenenti al gruppo</th>\n",
       "    </tr>\n",
       "  </thead>\n",
       "  <tbody>\n",
       "    <tr>\n",
       "      <th>151</th>\n",
       "      <td>csbno_11_04_2016_tutti_csbno</td>\n",
       "      <td>38650.0</td>\n",
       "      <td>0.9896</td>\n",
       "      <td>0.3619</td>\n",
       "      <td>844.0</td>\n",
       "      <td>0.0392</td>\n",
       "      <td>0.0909</td>\n",
       "    </tr>\n",
       "    <tr>\n",
       "      <th>117</th>\n",
       "      <td>csbno_01_02_2016_tutti</td>\n",
       "      <td>36925.0</td>\n",
       "      <td>0.9417</td>\n",
       "      <td>0.3349</td>\n",
       "      <td>798.0</td>\n",
       "      <td>0.0371</td>\n",
       "      <td>0.0532</td>\n",
       "    </tr>\n",
       "    <tr>\n",
       "      <th>131</th>\n",
       "      <td>csbno_02_12_2015_tutti</td>\n",
       "      <td>35418.0</td>\n",
       "      <td>0.8994</td>\n",
       "      <td>0.3287</td>\n",
       "      <td>760.0</td>\n",
       "      <td>0.0353</td>\n",
       "      <td>0.0375</td>\n",
       "    </tr>\n",
       "    <tr>\n",
       "      <th>184</th>\n",
       "      <td>csbno_21_10_2015_tutti</td>\n",
       "      <td>33622.0</td>\n",
       "      <td>0.8490</td>\n",
       "      <td>0.3311</td>\n",
       "      <td>717.0</td>\n",
       "      <td>0.0333</td>\n",
       "      <td>0.0227</td>\n",
       "    </tr>\n",
       "    <tr>\n",
       "      <th>212</th>\n",
       "      <td>Csbno_tutti_21_04_2016</td>\n",
       "      <td>33353.0</td>\n",
       "      <td>0.8683</td>\n",
       "      <td>0.3290</td>\n",
       "      <td>642.0</td>\n",
       "      <td>0.0298</td>\n",
       "      <td>0.0051</td>\n",
       "    </tr>\n",
       "  </tbody>\n",
       "</table>\n",
       "</div>"
      ],
      "text/plain": [
       "                             Nome  Totale aperture  \\\n",
       "151  csbno_11_04_2016_tutti_csbno          38650.0   \n",
       "117        csbno_01_02_2016_tutti          36925.0   \n",
       "131        csbno_02_12_2015_tutti          35418.0   \n",
       "184        csbno_21_10_2015_tutti          33622.0   \n",
       "212        Csbno_tutti_21_04_2016          33353.0   \n",
       "\n",
       "     % Lettori unici su lettori totali  % OR nel gruppo  Totale cliccatori  \\\n",
       "151                             0.9896           0.3619              844.0   \n",
       "117                             0.9417           0.3349              798.0   \n",
       "131                             0.8994           0.3287              760.0   \n",
       "184                             0.8490           0.3311              717.0   \n",
       "212                             0.8683           0.3290              642.0   \n",
       "\n",
       "     % Cliccatori gruppo su cliccatori totali  \\\n",
       "151                                    0.0392   \n",
       "117                                    0.0371   \n",
       "131                                    0.0353   \n",
       "184                                    0.0333   \n",
       "212                                    0.0298   \n",
       "\n",
       "     % Cliccatori su appartenenti al gruppo  \n",
       "151                                  0.0909  \n",
       "117                                  0.0532  \n",
       "131                                  0.0375  \n",
       "184                                  0.0227  \n",
       "212                                  0.0051  "
      ]
     },
     "execution_count": 5,
     "metadata": {},
     "output_type": "execute_result"
    }
   ],
   "source": [
    "totale_aperture = df.sort_values(['Totale aperture'], ascending=False)\n",
    "totale_aperture.head()"
   ]
  },
  {
   "cell_type": "markdown",
   "metadata": {},
   "source": [
    "# Le 5 liste di destinatari che hanno i valori minimi di apertura dell'email"
   ]
  },
  {
   "cell_type": "code",
   "execution_count": 6,
   "metadata": {
    "collapsed": false
   },
   "outputs": [
    {
     "data": {
      "text/html": [
       "<div>\n",
       "<table border=\"1\" class=\"dataframe\">\n",
       "  <thead>\n",
       "    <tr style=\"text-align: right;\">\n",
       "      <th></th>\n",
       "      <th>Nome</th>\n",
       "      <th>Totale aperture</th>\n",
       "      <th>% Lettori unici su lettori totali</th>\n",
       "      <th>% OR nel gruppo</th>\n",
       "      <th>Totale cliccatori</th>\n",
       "      <th>% Cliccatori gruppo su cliccatori totali</th>\n",
       "      <th>% Cliccatori su appartenenti al gruppo</th>\n",
       "    </tr>\n",
       "  </thead>\n",
       "  <tbody>\n",
       "    <tr>\n",
       "      <th>182</th>\n",
       "      <td>csbno_21_04_2016_migrazione_cafelib_aggiornamento</td>\n",
       "      <td>2.0</td>\n",
       "      <td>0.0</td>\n",
       "      <td>0.3333</td>\n",
       "      <td>1.0</td>\n",
       "      <td>0.0</td>\n",
       "      <td>0.0070</td>\n",
       "    </tr>\n",
       "    <tr>\n",
       "      <th>81</th>\n",
       "      <td>Conferenza_Stampa_Arese_9_maggio</td>\n",
       "      <td>1.0</td>\n",
       "      <td>0.0</td>\n",
       "      <td>0.0500</td>\n",
       "      <td>0.0</td>\n",
       "      <td>0.0</td>\n",
       "      <td>0.0086</td>\n",
       "    </tr>\n",
       "    <tr>\n",
       "      <th>266</th>\n",
       "      <td>mail con errore MBKS</td>\n",
       "      <td>1.0</td>\n",
       "      <td>0.0</td>\n",
       "      <td>0.0079</td>\n",
       "      <td>1.0</td>\n",
       "      <td>0.0</td>\n",
       "      <td>0.0083</td>\n",
       "    </tr>\n",
       "    <tr>\n",
       "      <th>169</th>\n",
       "      <td>csbno_16_05_2016_gallarate_cafelib_2</td>\n",
       "      <td>1.0</td>\n",
       "      <td>0.0</td>\n",
       "      <td>0.0385</td>\n",
       "      <td>0.0</td>\n",
       "      <td>0.0</td>\n",
       "      <td>0.0248</td>\n",
       "    </tr>\n",
       "    <tr>\n",
       "      <th>168</th>\n",
       "      <td>csbno_16_05_2016_gallarate_cafelib</td>\n",
       "      <td>1.0</td>\n",
       "      <td>0.0</td>\n",
       "      <td>0.0313</td>\n",
       "      <td>0.0</td>\n",
       "      <td>0.0</td>\n",
       "      <td>0.0062</td>\n",
       "    </tr>\n",
       "  </tbody>\n",
       "</table>\n",
       "</div>"
      ],
      "text/plain": [
       "                                                  Nome  Totale aperture  \\\n",
       "182  csbno_21_04_2016_migrazione_cafelib_aggiornamento              2.0   \n",
       "81                    Conferenza_Stampa_Arese_9_maggio              1.0   \n",
       "266                               mail con errore MBKS              1.0   \n",
       "169               csbno_16_05_2016_gallarate_cafelib_2              1.0   \n",
       "168                 csbno_16_05_2016_gallarate_cafelib              1.0   \n",
       "\n",
       "     % Lettori unici su lettori totali  % OR nel gruppo  Totale cliccatori  \\\n",
       "182                                0.0           0.3333                1.0   \n",
       "81                                 0.0           0.0500                0.0   \n",
       "266                                0.0           0.0079                1.0   \n",
       "169                                0.0           0.0385                0.0   \n",
       "168                                0.0           0.0313                0.0   \n",
       "\n",
       "     % Cliccatori gruppo su cliccatori totali  \\\n",
       "182                                       0.0   \n",
       "81                                        0.0   \n",
       "266                                       0.0   \n",
       "169                                       0.0   \n",
       "168                                       0.0   \n",
       "\n",
       "     % Cliccatori su appartenenti al gruppo  \n",
       "182                                  0.0070  \n",
       "81                                   0.0086  \n",
       "266                                  0.0083  \n",
       "169                                  0.0248  \n",
       "168                                  0.0062  "
      ]
     },
     "execution_count": 6,
     "metadata": {},
     "output_type": "execute_result"
    }
   ],
   "source": [
    "totale_aperture.tail()"
   ]
  },
  {
   "cell_type": "markdown",
   "metadata": {
    "collapsed": false
   },
   "source": [
    "# Nel grafico sottostante (boxplot) sono evidenziati per ogni colonnna i valori più frequenti vicino alla media (rettangolo con bordo rosso). "
   ]
  },
  {
   "cell_type": "markdown",
   "metadata": {},
   "source": [
    "Le crocette nere (+) sono i valori \"estremi\" (outliers) che rappresentano generalmente eccezioni quantitative (o, in questo caso, liste di destinatari della newsletter già fortemente fidelizzate)"
   ]
  },
  {
   "cell_type": "markdown",
   "metadata": {},
   "source": [
    "### Il Totale delle aperture e il Totale dei cliccatori sono due variabili covarianti e fortemente correlate (come si vede nel grafico scatter più in basso \"Covarianza tra Totale delle aperture dell'email con il Totale dei cliccatori\").\n",
    "\n",
    "#### Questa analisi è importante per capire come agire in seguito su quelle liste che non hanno dimostrato una risposta forte all'email"
   ]
  },
  {
   "cell_type": "code",
   "execution_count": 7,
   "metadata": {
    "collapsed": false
   },
   "outputs": [
    {
     "data": {
      "image/png": "[encoded data removed]",
      "text/plain": [
       "<matplotlib.figure.Figure at 0x7fc71f190080>"
      ]
     },
     "metadata": {},
     "output_type": "display_data"
    }
   ],
   "source": [
    "boxplots = df[df.columns[:]].plot(subplots=True, kind='box', figsize=(20,10))\n"
   ]
  },
  {
   "cell_type": "markdown",
   "metadata": {},
   "source": [
    "# Coefficienti di correlazione tra i valori delle colonne.\n",
    "\n",
    "- -1 = correlazione negativa (inversa), cioè al variare di un valore corrisponde una variazione inversa dell'altro\n",
    "\n",
    "- 1 = correlazione perfetta (all'aumentare di un valore corrisponde l'aumento dell'altro, come nel caso Totale aperture - Totale cliccatori)"
   ]
  },
  {
   "cell_type": "code",
   "execution_count": 8,
   "metadata": {
    "collapsed": false
   },
   "outputs": [
    {
     "data": {
      "text/html": [
       "<div>\n",
       "<table border=\"1\" class=\"dataframe\">\n",
       "  <thead>\n",
       "    <tr style=\"text-align: right;\">\n",
       "      <th></th>\n",
       "      <th>Totale aperture</th>\n",
       "      <th>% Lettori unici su lettori totali</th>\n",
       "      <th>% OR nel gruppo</th>\n",
       "      <th>Totale cliccatori</th>\n",
       "      <th>% Cliccatori gruppo su cliccatori totali</th>\n",
       "      <th>% Cliccatori su appartenenti al gruppo</th>\n",
       "    </tr>\n",
       "  </thead>\n",
       "  <tbody>\n",
       "    <tr>\n",
       "      <th>Totale aperture</th>\n",
       "      <td>1.000000</td>\n",
       "      <td>0.994160</td>\n",
       "      <td>-0.048287</td>\n",
       "      <td>0.981368</td>\n",
       "      <td>0.981382</td>\n",
       "      <td>0.181778</td>\n",
       "    </tr>\n",
       "    <tr>\n",
       "      <th>% Lettori unici su lettori totali</th>\n",
       "      <td>0.994160</td>\n",
       "      <td>1.000000</td>\n",
       "      <td>-0.060675</td>\n",
       "      <td>0.987479</td>\n",
       "      <td>0.987468</td>\n",
       "      <td>0.194465</td>\n",
       "    </tr>\n",
       "    <tr>\n",
       "      <th>% OR nel gruppo</th>\n",
       "      <td>-0.048287</td>\n",
       "      <td>-0.060675</td>\n",
       "      <td>1.000000</td>\n",
       "      <td>-0.014891</td>\n",
       "      <td>-0.014835</td>\n",
       "      <td>0.205818</td>\n",
       "    </tr>\n",
       "    <tr>\n",
       "      <th>Totale cliccatori</th>\n",
       "      <td>0.981368</td>\n",
       "      <td>0.987479</td>\n",
       "      <td>-0.014891</td>\n",
       "      <td>1.000000</td>\n",
       "      <td>0.999993</td>\n",
       "      <td>0.226749</td>\n",
       "    </tr>\n",
       "    <tr>\n",
       "      <th>% Cliccatori gruppo su cliccatori totali</th>\n",
       "      <td>0.981382</td>\n",
       "      <td>0.987468</td>\n",
       "      <td>-0.014835</td>\n",
       "      <td>0.999993</td>\n",
       "      <td>1.000000</td>\n",
       "      <td>0.226490</td>\n",
       "    </tr>\n",
       "    <tr>\n",
       "      <th>% Cliccatori su appartenenti al gruppo</th>\n",
       "      <td>0.181778</td>\n",
       "      <td>0.194465</td>\n",
       "      <td>0.205818</td>\n",
       "      <td>0.226749</td>\n",
       "      <td>0.226490</td>\n",
       "      <td>1.000000</td>\n",
       "    </tr>\n",
       "  </tbody>\n",
       "</table>\n",
       "</div>"
      ],
      "text/plain": [
       "                                          Totale aperture  \\\n",
       "Totale aperture                                  1.000000   \n",
       "% Lettori unici su lettori totali                0.994160   \n",
       "% OR nel gruppo                                 -0.048287   \n",
       "Totale cliccatori                                0.981368   \n",
       "% Cliccatori gruppo su cliccatori totali         0.981382   \n",
       "% Cliccatori su appartenenti al gruppo           0.181778   \n",
       "\n",
       "                                          % Lettori unici su lettori totali  \\\n",
       "Totale aperture                                                    0.994160   \n",
       "% Lettori unici su lettori totali                                  1.000000   \n",
       "% OR nel gruppo                                                   -0.060675   \n",
       "Totale cliccatori                                                  0.987479   \n",
       "% Cliccatori gruppo su cliccatori totali                           0.987468   \n",
       "% Cliccatori su appartenenti al gruppo                             0.194465   \n",
       "\n",
       "                                          % OR nel gruppo  Totale cliccatori  \\\n",
       "Totale aperture                                 -0.048287           0.981368   \n",
       "% Lettori unici su lettori totali               -0.060675           0.987479   \n",
       "% OR nel gruppo                                  1.000000          -0.014891   \n",
       "Totale cliccatori                               -0.014891           1.000000   \n",
       "% Cliccatori gruppo su cliccatori totali        -0.014835           0.999993   \n",
       "% Cliccatori su appartenenti al gruppo           0.205818           0.226749   \n",
       "\n",
       "                                          % Cliccatori gruppo su cliccatori totali  \\\n",
       "Totale aperture                                                           0.981382   \n",
       "% Lettori unici su lettori totali                                         0.987468   \n",
       "% OR nel gruppo                                                          -0.014835   \n",
       "Totale cliccatori                                                         0.999993   \n",
       "% Cliccatori gruppo su cliccatori totali                                  1.000000   \n",
       "% Cliccatori su appartenenti al gruppo                                    0.226490   \n",
       "\n",
       "                                          % Cliccatori su appartenenti al gruppo  \n",
       "Totale aperture                                                         0.181778  \n",
       "% Lettori unici su lettori totali                                       0.194465  \n",
       "% OR nel gruppo                                                         0.205818  \n",
       "Totale cliccatori                                                       0.226749  \n",
       "% Cliccatori gruppo su cliccatori totali                                0.226490  \n",
       "% Cliccatori su appartenenti al gruppo                                  1.000000  "
      ]
     },
     "execution_count": 8,
     "metadata": {},
     "output_type": "execute_result"
    }
   ],
   "source": [
    "df.corr()"
   ]
  },
  {
   "cell_type": "markdown",
   "metadata": {},
   "source": [
    "# La \"distribuzione normale\" dei dati non è possibile (la curva gaussiana non è allineata al centro). "
   ]
  },
  {
   "cell_type": "code",
   "execution_count": 9,
   "metadata": {
    "collapsed": false
   },
   "outputs": [
    {
     "data": {
      "image/png": "[encoded data removed]",
      "text/plain": [
       "<matplotlib.figure.Figure at 0x7fc71c380a58>"
      ]
     },
     "metadata": {},
     "output_type": "display_data"
    }
   ],
   "source": [
    "h = sorted(df['Totale aperture'])\n",
    "hmean = np.mean(h)\n",
    "hstd = np.std(h)\n",
    "h_n = (h - hmean) / hstd\n",
    "pdf = stats.norm.pdf( h_n )\n",
    "\n",
    "# plot data\n",
    "f,ax1 = plt.subplots()\n",
    "\n",
    "ax1.hist( h_n, 20, normed=1 )\n",
    "ax1.plot( h_n , pdf, lw=3, c='r')\n",
    "ax1.set_xlim( [h_n.min(), h_n.max()] )\n",
    "ax1.set_xlabel( r'Totale aperture $[\\sigma]$' )\n",
    "ax1.set_ylabel( r'Frequenza relativa')\n",
    "\n",
    "ax2 = ax1.twiny()\n",
    "ax2.grid( False )\n",
    "ax2.set_xlim( ax1.get_xlim() )\n",
    "ax2.set_ylim( ax1.get_ylim() )\n",
    "ax2.set_xlabel( r'Fig. 2 - Totale aperture' )\n",
    "\n",
    "ticklocs = ax2.xaxis.get_ticklocs()\n",
    "ticklocs = [ round( t*hstd + hmean, 2) for t in ticklocs ]"
   ]
  },
  {
   "cell_type": "code",
   "execution_count": 10,
   "metadata": {
    "collapsed": false
   },
   "outputs": [
    {
     "data": {
      "text/plain": [
       "Index(['Nome', 'Totale aperture', '% Lettori unici su lettori totali',\n",
       "       '% OR nel gruppo', 'Totale cliccatori',\n",
       "       '% Cliccatori gruppo su cliccatori totali',\n",
       "       '% Cliccatori su appartenenti al gruppo'],\n",
       "      dtype='object')"
      ]
     },
     "execution_count": 10,
     "metadata": {},
     "output_type": "execute_result"
    }
   ],
   "source": [
    "df.columns"
   ]
  },
  {
   "cell_type": "markdown",
   "metadata": {},
   "source": [
    "# Covarianza tra Totale delle aperture dell'email con il Totale dei cliccatori"
   ]
  },
  {
   "cell_type": "code",
   "execution_count": 11,
   "metadata": {
    "collapsed": false
   },
   "outputs": [
    {
     "data": {
      "text/plain": [
       "<matplotlib.collections.PathCollection at 0x7fc71c8fe4e0>"
      ]
     },
     "execution_count": 11,
     "metadata": {},
     "output_type": "execute_result"
    },
    {
     "data": {
      "image/png": "[encoded data removed]",
      "text/plain": [
       "<matplotlib.figure.Figure at 0x7fc71caced68>"
      ]
     },
     "metadata": {},
     "output_type": "display_data"
    }
   ],
   "source": [
    "df_aperture = df['Totale aperture']\n",
    "df_cliccatori = df['Totale cliccatori']\n",
    "plt.scatter(df_aperture,df_cliccatori)"
   ]
  },
  {
   "cell_type": "markdown",
   "metadata": {},
   "source": [
    "# Covarianza tra la percentuale di lettori unici dell'email con il Totale dei cliccatori"
   ]
  },
  {
   "cell_type": "code",
   "execution_count": 12,
   "metadata": {
    "collapsed": false
   },
   "outputs": [
    {
     "data": {
      "text/plain": [
       "<matplotlib.collections.PathCollection at 0x7fc71c8dd518>"
      ]
     },
     "execution_count": 12,
     "metadata": {},
     "output_type": "execute_result"
    },
    {
     "data": {
      "image/png": "[encoded data removed]",
      "text/plain": [
       "<matplotlib.figure.Figure at 0x7fc71c90c748>"
      ]
     },
     "metadata": {},
     "output_type": "display_data"
    }
   ],
   "source": [
    "df_lettori_unici = df['% Lettori unici su lettori totali']\n",
    "df_cliccatori_gruppo = df['Totale cliccatori']\n",
    "plt.scatter(df_lettori_unici,df_cliccatori_gruppo)"
   ]
  },
  {
   "cell_type": "markdown",
   "metadata": {},
   "source": [
    "# Quali liste meritano una seconda email?"
   ]
  },
  {
   "cell_type": "markdown",
   "metadata": {},
   "source": [
    "In base al diagramma a scatola (boxplot) delle aperture della newsletter, alla frequenza relativa (Fig. 2) e tenuto conto della correlazione tra aperture e cliccatori, le liste di destinatari che hanno un punteggio di apertura della email uguale o inferiore a 7500.\n",
    "\n",
    "Le altre liste sono con tutta probabilità già fidelizzate e si correrebbe il rischio di generare insistenza o spam."
   ]
  },
  {
   "cell_type": "markdown",
   "metadata": {},
   "source": [
    "### i quadrati blu nel diagramma sottostante sono appunto quei valori altissimi che ci permetteranno di escludere le liste che hanno un tasso di apertura e cliccatori ampiamente fuori dai valori medi e dal 3° quartile."
   ]
  },
  {
   "cell_type": "code",
   "execution_count": 13,
   "metadata": {
    "collapsed": false
   },
   "outputs": [
    {
     "data": {
      "image/png": "[encoded data removed]",
      "text/plain": [
       "<matplotlib.figure.Figure at 0x7fc71c8802b0>"
      ]
     },
     "metadata": {},
     "output_type": "display_data"
    }
   ],
   "source": [
    "df_aperture_medie = df['Totale aperture']\n",
    "secondo_invio = plt.boxplot(df_aperture_medie, 0, 'rs', 0)"
   ]
  },
  {
   "cell_type": "markdown",
   "metadata": {},
   "source": [
    "# Ecco le liste:"
   ]
  },
  {
   "cell_type": "code",
   "execution_count": 14,
   "metadata": {
    "collapsed": false
   },
   "outputs": [
    {
     "data": {
      "text/html": [
       "<div>\n",
       "<table border=\"1\" class=\"dataframe\">\n",
       "  <thead>\n",
       "    <tr style=\"text-align: right;\">\n",
       "      <th></th>\n",
       "      <th>Totale aperture</th>\n",
       "      <th>% Lettori unici su lettori totali</th>\n",
       "      <th>% OR nel gruppo</th>\n",
       "      <th>Totale cliccatori</th>\n",
       "      <th>% Cliccatori gruppo su cliccatori totali</th>\n",
       "      <th>% Cliccatori su appartenenti al gruppo</th>\n",
       "    </tr>\n",
       "  </thead>\n",
       "  <tbody>\n",
       "    <tr>\n",
       "      <th>count</th>\n",
       "      <td>369.000000</td>\n",
       "      <td>369.000000</td>\n",
       "      <td>369.000000</td>\n",
       "      <td>369.000000</td>\n",
       "      <td>369.000000</td>\n",
       "      <td>369.000000</td>\n",
       "    </tr>\n",
       "    <tr>\n",
       "      <th>mean</th>\n",
       "      <td>1999.924119</td>\n",
       "      <td>0.045950</td>\n",
       "      <td>0.413834</td>\n",
       "      <td>44.222222</td>\n",
       "      <td>0.002054</td>\n",
       "      <td>0.011560</td>\n",
       "    </tr>\n",
       "    <tr>\n",
       "      <th>std</th>\n",
       "      <td>2096.956476</td>\n",
       "      <td>0.042257</td>\n",
       "      <td>0.331863</td>\n",
       "      <td>46.349094</td>\n",
       "      <td>0.002157</td>\n",
       "      <td>0.016071</td>\n",
       "    </tr>\n",
       "    <tr>\n",
       "      <th>min</th>\n",
       "      <td>2.000000</td>\n",
       "      <td>0.000100</td>\n",
       "      <td>0.021000</td>\n",
       "      <td>2.000000</td>\n",
       "      <td>0.000100</td>\n",
       "      <td>0.000000</td>\n",
       "    </tr>\n",
       "    <tr>\n",
       "      <th>25%</th>\n",
       "      <td>412.000000</td>\n",
       "      <td>0.011000</td>\n",
       "      <td>0.288900</td>\n",
       "      <td>12.000000</td>\n",
       "      <td>0.000600</td>\n",
       "      <td>0.006000</td>\n",
       "    </tr>\n",
       "    <tr>\n",
       "      <th>50%</th>\n",
       "      <td>1223.000000</td>\n",
       "      <td>0.033100</td>\n",
       "      <td>0.325600</td>\n",
       "      <td>32.000000</td>\n",
       "      <td>0.001500</td>\n",
       "      <td>0.007700</td>\n",
       "    </tr>\n",
       "    <tr>\n",
       "      <th>75%</th>\n",
       "      <td>2880.000000</td>\n",
       "      <td>0.082100</td>\n",
       "      <td>0.415900</td>\n",
       "      <td>71.000000</td>\n",
       "      <td>0.003300</td>\n",
       "      <td>0.010000</td>\n",
       "    </tr>\n",
       "    <tr>\n",
       "      <th>max</th>\n",
       "      <td>6971.000000</td>\n",
       "      <td>0.181600</td>\n",
       "      <td>3.764700</td>\n",
       "      <td>253.000000</td>\n",
       "      <td>0.011800</td>\n",
       "      <td>0.181800</td>\n",
       "    </tr>\n",
       "  </tbody>\n",
       "</table>\n",
       "</div>"
      ],
      "text/plain": [
       "       Totale aperture  % Lettori unici su lettori totali  % OR nel gruppo  \\\n",
       "count       369.000000                         369.000000       369.000000   \n",
       "mean       1999.924119                           0.045950         0.413834   \n",
       "std        2096.956476                           0.042257         0.331863   \n",
       "min           2.000000                           0.000100         0.021000   \n",
       "25%         412.000000                           0.011000         0.288900   \n",
       "50%        1223.000000                           0.033100         0.325600   \n",
       "75%        2880.000000                           0.082100         0.415900   \n",
       "max        6971.000000                           0.181600         3.764700   \n",
       "\n",
       "       Totale cliccatori  % Cliccatori gruppo su cliccatori totali  \\\n",
       "count         369.000000                                369.000000   \n",
       "mean           44.222222                                  0.002054   \n",
       "std            46.349094                                  0.002157   \n",
       "min             2.000000                                  0.000100   \n",
       "25%            12.000000                                  0.000600   \n",
       "50%            32.000000                                  0.001500   \n",
       "75%            71.000000                                  0.003300   \n",
       "max           253.000000                                  0.011800   \n",
       "\n",
       "       % Cliccatori su appartenenti al gruppo  \n",
       "count                              369.000000  \n",
       "mean                                 0.011560  \n",
       "std                                  0.016071  \n",
       "min                                  0.000000  \n",
       "25%                                  0.006000  \n",
       "50%                                  0.007700  \n",
       "75%                                  0.010000  \n",
       "max                                  0.181800  "
      ]
     },
     "execution_count": 14,
     "metadata": {},
     "output_type": "execute_result"
    }
   ],
   "source": [
    "liste_sec = df[df['Totale aperture'] <= 7000]\n",
    "liste_secondo_invio = liste_sec[liste_sec['Totale cliccatori'] > 1]\n",
    "liste_secondo_invio.describe()"
   ]
  },
  {
   "cell_type": "markdown",
   "metadata": {},
   "source": [
    "# per un totale di 370 su 422 iniziali"
   ]
  },
  {
   "cell_type": "code",
   "execution_count": 15,
   "metadata": {
    "collapsed": true
   },
   "outputs": [],
   "source": [
    "liste_secondo_invio.to_csv('liste_secondo_invio.csv')"
   ]
  },
  {
   "cell_type": "markdown",
   "metadata": {},
   "source": [
    "### Come si può vedere dall'allungamento dei rettangoli e dalla diminuzione delle crocette (outliers, valori estremi fuori range) nella colonna \"Totale aperture\" e \"Totale cliccatori\" (rispetto al primo grafico a inizio pagina), abbiamo un range di possibili destinatari verso i quali si può replicare il messaggio d'invito a sostenere il progetto +TECA"
   ]
  },
  {
   "cell_type": "code",
   "execution_count": 16,
   "metadata": {
    "collapsed": false
   },
   "outputs": [
    {
     "data": {
      "image/png": "[encoded data removed]",
      "text/plain": [
       "<matplotlib.figure.Figure at 0x7fc71c7fcb00>"
      ]
     },
     "metadata": {},
     "output_type": "display_data"
    }
   ],
   "source": [
    "boxplots = liste_secondo_invio[liste_secondo_invio.columns[:]].plot(subplots=True, kind='box', figsize=(20,10))"
   ]
  },
  {
   "cell_type": "markdown",
   "metadata": {},
   "source": [
    "### Volendo, conoscendo il numero esatto di destinatari unici di queste 370 liste, a questo punto si potrebbe calcolare la \n",
    "\n",
    "## probabilità condizionata \n",
    "\n",
    "## che si verifichi un clic e di conseguenza aumenti la probabilità stessa dell'invio della email a sostegno del progetto +TECA"
   ]
  },
  {
   "cell_type": "markdown",
   "metadata": {},
   "source": [
    "### Senza quel dato è quasi impossibile purtroppo, al momento, trarre altre conclusioni dai dati esportati da MailUp, senza correre il rischio di sbagliare completamente la premessa del ragionamento."
   ]
  },
  {
   "cell_type": "markdown",
   "metadata": {},
   "source": [
    "### Di sicuro abbiamo estratto un gruppo di destinatari con una distribuzione media delle aperture della email (e di consegunza dei clic) più omogeneo rispetto alla Fig. 2 iniziale (vedi istogramma in alto)"
   ]
  },
  {
   "cell_type": "code",
   "execution_count": 22,
   "metadata": {
    "collapsed": false
   },
   "outputs": [
    {
     "data": {
      "text/plain": [
       "(array([ 118.,  108.,   33.,   12.,   28.,    8.,    4.,    4.,   22.,   32.]),\n",
       " array([  2.00000000e+00,   6.98900000e+02,   1.39580000e+03,\n",
       "          2.09270000e+03,   2.78960000e+03,   3.48650000e+03,\n",
       "          4.18340000e+03,   4.88030000e+03,   5.57720000e+03,\n",
       "          6.27410000e+03,   6.97100000e+03]),\n",
       " <a list of 10 Patch objects>)"
      ]
     },
     "execution_count": 22,
     "metadata": {},
     "output_type": "execute_result"
    },
    {
     "data": {
      "image/png": "[encoded data removed]",
      "text/plain": [
       "<matplotlib.figure.Figure at 0x7fc71cd006d8>"
      ]
     },
     "metadata": {},
     "output_type": "display_data"
    }
   ],
   "source": [
    "plt.hist(liste_secondo_invio['Totale aperture'])"
   ]
  }
 ],
 "metadata": {
  "kernelspec": {
   "display_name": "Python 3",
   "language": "python",
   "name": "python3"
  },
  "language_info": {
   "codemirror_mode": {
    "name": "ipython",
    "version": 3
   },
   "file_extension": ".py",
   "mimetype": "text/x-python",
   "name": "python",
   "nbconvert_exporter": "python",
   "pygments_lexer": "ipython3",
   "version": "3.5.1"
  }
 },
 "nbformat": 4,
 "nbformat_minor": 0
}
