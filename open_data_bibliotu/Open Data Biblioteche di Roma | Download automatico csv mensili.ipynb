{
 "cells": [
  {
   "cell_type": "markdown",
   "metadata": {},
   "source": [
    "# Open Data Biblioteche di Roma | Download automatico dei csv mensili"
   ]
  },
  {
   "cell_type": "markdown",
   "metadata": {},
   "source": [
    "![Let's Scrape!](https://media1.giphy.com/media/3o7TKSx0g7RqRniGFG/giphy.gif)"
   ]
  },
  {
   "cell_type": "code",
   "execution_count": 1,
   "metadata": {},
   "outputs": [],
   "source": [
    "import os\n",
    "import glob\n",
    "import subprocess"
   ]
  },
  {
   "cell_type": "markdown",
   "metadata": {},
   "source": [
    "# Selenium"
   ]
  },
  {
   "cell_type": "code",
   "execution_count": 2,
   "metadata": {},
   "outputs": [],
   "source": [
    "from selenium import webdriver\n",
    "from selenium.webdriver.common.by import By\n",
    "from selenium.webdriver.support.ui import WebDriverWait\n",
    "from selenium.webdriver.support import expected_conditions as EC\n",
    "from selenium.webdriver.support.select import Select\n",
    "from selenium.webdriver.firefox.options import Options\n",
    "from selenium.common import exceptions\n",
    "opts = Options()\n",
    "\n",
    "#facoltativo in ambiente desktop (obbligatorio nel caso di script lato server)\n",
    "#opts.headless = True \n",
    "\n",
    "profile = webdriver.FirefoxProfile()\n",
    "profile.set_preference(\"browser.privatebrowsing.autostart\", True)\n",
    "#profile.set_preference(\"permissions.default.image\", 2) #facoltativo\n",
    "\n",
    "# il driver gecko si scarica qui: https://github.com/mozilla/geckodriver/releases/tag/v0.24.0\n",
    "# inizializzare il driver specificando come sempre la posizione del geckodriver nel proprio pc/server\n",
    "driver = (\n",
    "webdriver.Firefox(\n",
    "    executable_path='/Users/marcogoldin/Documents/WebDev/Python/Scraping/geckodriver',\n",
    "    firefox_profile=profile,\n",
    "    options=opts))\n",
    "\n",
    "wait_explicit = WebDriverWait(driver, 20)"
   ]
  },
  {
   "cell_type": "markdown",
   "metadata": {},
   "source": [
    "## Definire la cartella che conterrà le sotto-cartelle con i singoli csv mensili"
   ]
  },
  {
   "cell_type": "code",
   "execution_count": 12,
   "metadata": {},
   "outputs": [],
   "source": [
    "# es.: '/Users/marco/Documents/OpenDataBibliotecheRoma/csv_prestiti_mensili'\n",
    "folder_path = ''"
   ]
  },
  {
   "cell_type": "markdown",
   "metadata": {},
   "source": [
    "## Scraping\n",
    "### link alla pagina con i csv mensili: https://www.bibliotechediroma.it/opendata?path=DET_P_MESEPREC"
   ]
  },
  {
   "cell_type": "code",
   "execution_count": 4,
   "metadata": {},
   "outputs": [],
   "source": [
    "driver.get('https://www.bibliotechediroma.it/opendata?path=DET_P_MESEPREC')\n",
    "wait_explicit.until(\n",
    "            EC.presence_of_element_located(\n",
    "                (By.XPATH, '//*[@id=\"block-bibliotu-content\"]/article/ul')))\n",
    "\n",
    "corpo_article = driver.find_element_by_xpath(\n",
    "    '//*[@id=\"block-bibliotu-content\"]/article/ul')\n",
    "\n",
    "blocchi = [\n",
    "    [i.text.split('\\n')] for i in corpo_article.find_elements_by_xpath('//*[@id=\"block-bibliotu-content\"]/article/ul/li')\n",
    "]\n",
    "\n",
    "list_all = []\n",
    "for i in range(len(blocchi)):\n",
    "    pos = i+1\n",
    "    data = blocchi[i][0][0]\n",
    "    files = driver.find_element_by_xpath('//*[@id=\"block-bibliotu-content\"]/article/ul/li'+ str([pos]) + '/ul')\n",
    "    li = files.find_elements_by_tag_name(\"a\")\n",
    "    file_list = [elem.get_attribute(\"href\") for elem in li]\n",
    "    csv = [elem for elem in file_list if elem.endswith('csv')][0]\n",
    "    list_all.append([data,csv]) # lista contenente la data (anno,mese) e tutti gli url per il download di ogni singolo csv"
   ]
  },
  {
   "cell_type": "markdown",
   "metadata": {},
   "source": [
    "# Download dei csv, ciascuno in una cartella separata"
   ]
  },
  {
   "cell_type": "markdown",
   "metadata": {},
   "source": [
    "### - i csv vengono rinominati automaticamente con anno e mese\n",
    "### - in questo modo sarà più semplice gestire successivamente l'aggregazione dei file o eventuali slice nelle singole sottocartelle..."
   ]
  },
  {
   "cell_type": "code",
   "execution_count": 5,
   "metadata": {},
   "outputs": [
    {
     "name": "stdout",
     "output_type": "stream",
     "text": [
      "cartella: 201707\n",
      "cartella: 201708\n",
      "cartella: 201709\n",
      "cartella: 201710\n",
      "cartella: 201711\n",
      "cartella: 201801\n",
      "cartella: 201802\n",
      "cartella: 201803\n",
      "cartella: 201804\n",
      "cartella: 201805\n",
      "cartella: 201806\n",
      "cartella: 201807\n",
      "cartella: 201808\n",
      "cartella: 201809\n",
      "cartella: 201810\n",
      "cartella: 201811\n",
      "cartella: 201812\n",
      "cartella: 201901\n",
      "cartella: 201902\n",
      "cartella: 201903\n",
      "cartella: 201904\n",
      "cartella: 201905\n",
      "cartella: 201906\n",
      "cartella: 201907\n"
     ]
    }
   ],
   "source": [
    "for i in range(0,len(list_all)):\n",
    "    if not os.path.exists(os.path.join(folder_path, str(list_all[i][0]))):\n",
    "        os.makedirs(os.path.join(folder_path, str(list_all[i][0])))\n",
    "    folder = os.path.join(folder_path, str(list_all[i][0]))\n",
    "    print(f'cartella: {list_all[i][0]}')\n",
    "    subprocess.run(['wget','-P',folder,list_all[i][1]])\n",
    "    os.rename(os.path.join(folder,'DET_P_MESEPREC_01.csv'),os.path.join(folder,list_all[i][0])+'.csv' )"
   ]
  },
  {
   "cell_type": "code",
   "execution_count": 6,
   "metadata": {},
   "outputs": [],
   "source": [
    "# chiudere il driver Selenium\n",
    "driver.quit()"
   ]
  },
  {
   "cell_type": "code",
   "execution_count": 11,
   "metadata": {},
   "outputs": [
    {
     "name": "stdout",
     "output_type": "stream",
     "text": [
      "\n",
      "*** Lista con elenco di tutti i file ***\n",
      "\n",
      " ['/Users/marcogoldin/Documents/WebDev/Data_Science/OpenDataBiblioTu/prova_selenium_csv_github/201708/201708.csv', '/Users/marcogoldin/Documents/WebDev/Data_Science/OpenDataBiblioTu/prova_selenium_csv_github/201907/201907.csv', '/Users/marcogoldin/Documents/WebDev/Data_Science/OpenDataBiblioTu/prova_selenium_csv_github/201707/201707.csv', '/Users/marcogoldin/Documents/WebDev/Data_Science/OpenDataBiblioTu/prova_selenium_csv_github/201709/201709.csv', '/Users/marcogoldin/Documents/WebDev/Data_Science/OpenDataBiblioTu/prova_selenium_csv_github/201906/201906.csv', '/Users/marcogoldin/Documents/WebDev/Data_Science/OpenDataBiblioTu/prova_selenium_csv_github/201901/201901.csv', '/Users/marcogoldin/Documents/WebDev/Data_Science/OpenDataBiblioTu/prova_selenium_csv_github/201811/201811.csv', '/Users/marcogoldin/Documents/WebDev/Data_Science/OpenDataBiblioTu/prova_selenium_csv_github/201810/201810.csv', '/Users/marcogoldin/Documents/WebDev/Data_Science/OpenDataBiblioTu/prova_selenium_csv_github/201803/201803.csv', '/Users/marcogoldin/Documents/WebDev/Data_Science/OpenDataBiblioTu/prova_selenium_csv_github/201804/201804.csv', '/Users/marcogoldin/Documents/WebDev/Data_Science/OpenDataBiblioTu/prova_selenium_csv_github/201805/201805.csv', '/Users/marcogoldin/Documents/WebDev/Data_Science/OpenDataBiblioTu/prova_selenium_csv_github/201802/201802.csv', '/Users/marcogoldin/Documents/WebDev/Data_Science/OpenDataBiblioTu/prova_selenium_csv_github/201904/201904.csv', '/Users/marcogoldin/Documents/WebDev/Data_Science/OpenDataBiblioTu/prova_selenium_csv_github/201903/201903.csv', '/Users/marcogoldin/Documents/WebDev/Data_Science/OpenDataBiblioTu/prova_selenium_csv_github/201902/201902.csv', '/Users/marcogoldin/Documents/WebDev/Data_Science/OpenDataBiblioTu/prova_selenium_csv_github/201905/201905.csv', '/Users/marcogoldin/Documents/WebDev/Data_Science/OpenDataBiblioTu/prova_selenium_csv_github/201812/201812.csv', '/Users/marcogoldin/Documents/WebDev/Data_Science/OpenDataBiblioTu/prova_selenium_csv_github/201809/201809.csv', '/Users/marcogoldin/Documents/WebDev/Data_Science/OpenDataBiblioTu/prova_selenium_csv_github/201807/201807.csv', '/Users/marcogoldin/Documents/WebDev/Data_Science/OpenDataBiblioTu/prova_selenium_csv_github/201801/201801.csv', '/Users/marcogoldin/Documents/WebDev/Data_Science/OpenDataBiblioTu/prova_selenium_csv_github/201806/201806.csv', '/Users/marcogoldin/Documents/WebDev/Data_Science/OpenDataBiblioTu/prova_selenium_csv_github/201808/201808.csv', '/Users/marcogoldin/Documents/WebDev/Data_Science/OpenDataBiblioTu/prova_selenium_csv_github/201710/201710.csv', '/Users/marcogoldin/Documents/WebDev/Data_Science/OpenDataBiblioTu/prova_selenium_csv_github/201711/201711.csv']\n"
     ]
    }
   ],
   "source": [
    "csv_files = glob.glob(\n",
    "    folder_path+'/**/*.csv',\n",
    "    recursive=True)\n",
    "\n",
    "print(f'\\n*** Lista con elenco di tutti i file ***\\n\\n {csv_files}')"
   ]
  },
  {
   "cell_type": "markdown",
   "metadata": {},
   "source": [
    "## voilà..."
   ]
  },
  {
   "cell_type": "markdown",
   "metadata": {},
   "source": [
    "![Neato!](https://media3.giphy.com/media/82LD2CCLiR1Epx2xOv/giphy.gif)"
   ]
  }
 ],
 "metadata": {
  "kernelspec": {
   "display_name": "Python 3",
   "language": "python",
   "name": "python3"
  },
  "language_info": {
   "codemirror_mode": {
    "name": "ipython",
    "version": 3
   },
   "file_extension": ".py",
   "mimetype": "text/x-python",
   "name": "python",
   "nbconvert_exporter": "python",
   "pygments_lexer": "ipython3",
   "version": "3.7.3"
  }
 },
 "nbformat": 4,
 "nbformat_minor": 2
}
